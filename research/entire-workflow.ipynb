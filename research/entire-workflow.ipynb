{
 "cells": [
  {
   "cell_type": "markdown",
   "metadata": {},
   "source": [
    "### Workflow from data loading to model training"
   ]
  },
  {
   "cell_type": "code",
   "execution_count": 17,
   "metadata": {},
   "outputs": [],
   "source": [
    "import pandas as pd\n",
    "import numpy as np\n",
    "\n",
    "from sklearn.model_selection import train_test_split\n",
    "from sklearn.compose import ColumnTransformer\n",
    "from sklearn.pipeline import Pipeline\n",
    "from sklearn.preprocessing import OneHotEncoder, StandardScaler\n",
    "from sklearn.impute import SimpleImputer"
   ]
  },
  {
   "cell_type": "code",
   "execution_count": 6,
   "metadata": {},
   "outputs": [],
   "source": [
    "df = pd.read_csv('data/clean/clean_data.csv')"
   ]
  },
  {
   "cell_type": "code",
   "execution_count": 7,
   "metadata": {},
   "outputs": [
    {
     "data": {
      "text/html": [
       "<div>\n",
       "<style scoped>\n",
       "    .dataframe tbody tr th:only-of-type {\n",
       "        vertical-align: middle;\n",
       "    }\n",
       "\n",
       "    .dataframe tbody tr th {\n",
       "        vertical-align: top;\n",
       "    }\n",
       "\n",
       "    .dataframe thead th {\n",
       "        text-align: right;\n",
       "    }\n",
       "</style>\n",
       "<table border=\"1\" class=\"dataframe\">\n",
       "  <thead>\n",
       "    <tr style=\"text-align: right;\">\n",
       "      <th></th>\n",
       "      <th>age</th>\n",
       "      <th>gender</th>\n",
       "      <th>height_cm</th>\n",
       "      <th>weight_kg</th>\n",
       "      <th>activity_type</th>\n",
       "      <th>duration_minutes</th>\n",
       "      <th>intensity</th>\n",
       "      <th>calories_burned</th>\n",
       "      <th>avg_heart_rate</th>\n",
       "      <th>hours_sleep</th>\n",
       "      <th>stress_level</th>\n",
       "      <th>daily_steps</th>\n",
       "      <th>hydration_level</th>\n",
       "      <th>bmi</th>\n",
       "      <th>resting_heart_rate</th>\n",
       "      <th>blood_pressure_systolic</th>\n",
       "      <th>blood_pressure_diastolic</th>\n",
       "      <th>smoking_status</th>\n",
       "      <th>fitness_level</th>\n",
       "    </tr>\n",
       "  </thead>\n",
       "  <tbody>\n",
       "    <tr>\n",
       "      <th>0</th>\n",
       "      <td>56</td>\n",
       "      <td>F</td>\n",
       "      <td>165.3</td>\n",
       "      <td>53.7</td>\n",
       "      <td>Dancing</td>\n",
       "      <td>41</td>\n",
       "      <td>Low</td>\n",
       "      <td>3.3</td>\n",
       "      <td>103</td>\n",
       "      <td>6.6</td>\n",
       "      <td>3</td>\n",
       "      <td>7128</td>\n",
       "      <td>1.5</td>\n",
       "      <td>19.6</td>\n",
       "      <td>69.5</td>\n",
       "      <td>110.7</td>\n",
       "      <td>72.9</td>\n",
       "      <td>Never</td>\n",
       "      <td>0.04</td>\n",
       "    </tr>\n",
       "    <tr>\n",
       "      <th>1</th>\n",
       "      <td>56</td>\n",
       "      <td>F</td>\n",
       "      <td>165.3</td>\n",
       "      <td>53.9</td>\n",
       "      <td>Swimming</td>\n",
       "      <td>28</td>\n",
       "      <td>Low</td>\n",
       "      <td>2.9</td>\n",
       "      <td>102</td>\n",
       "      <td>8.1</td>\n",
       "      <td>7</td>\n",
       "      <td>7925</td>\n",
       "      <td>1.8</td>\n",
       "      <td>19.6</td>\n",
       "      <td>69.5</td>\n",
       "      <td>110.7</td>\n",
       "      <td>72.9</td>\n",
       "      <td>Never</td>\n",
       "      <td>0.07</td>\n",
       "    </tr>\n",
       "    <tr>\n",
       "      <th>2</th>\n",
       "      <td>56</td>\n",
       "      <td>F</td>\n",
       "      <td>165.3</td>\n",
       "      <td>54.2</td>\n",
       "      <td>Swimming</td>\n",
       "      <td>21</td>\n",
       "      <td>Medium</td>\n",
       "      <td>2.6</td>\n",
       "      <td>126</td>\n",
       "      <td>6.2</td>\n",
       "      <td>7</td>\n",
       "      <td>7557</td>\n",
       "      <td>2.7</td>\n",
       "      <td>19.6</td>\n",
       "      <td>69.5</td>\n",
       "      <td>110.7</td>\n",
       "      <td>72.9</td>\n",
       "      <td>Never</td>\n",
       "      <td>0.09</td>\n",
       "    </tr>\n",
       "    <tr>\n",
       "      <th>3</th>\n",
       "      <td>56</td>\n",
       "      <td>F</td>\n",
       "      <td>165.3</td>\n",
       "      <td>54.4</td>\n",
       "      <td>Weight Training</td>\n",
       "      <td>99</td>\n",
       "      <td>Medium</td>\n",
       "      <td>10.7</td>\n",
       "      <td>141</td>\n",
       "      <td>7.2</td>\n",
       "      <td>8</td>\n",
       "      <td>11120</td>\n",
       "      <td>2.6</td>\n",
       "      <td>19.6</td>\n",
       "      <td>69.5</td>\n",
       "      <td>110.7</td>\n",
       "      <td>72.9</td>\n",
       "      <td>Never</td>\n",
       "      <td>0.21</td>\n",
       "    </tr>\n",
       "    <tr>\n",
       "      <th>4</th>\n",
       "      <td>56</td>\n",
       "      <td>F</td>\n",
       "      <td>165.3</td>\n",
       "      <td>54.7</td>\n",
       "      <td>Swimming</td>\n",
       "      <td>100</td>\n",
       "      <td>Medium</td>\n",
       "      <td>12.7</td>\n",
       "      <td>112</td>\n",
       "      <td>7.1</td>\n",
       "      <td>1</td>\n",
       "      <td>5406</td>\n",
       "      <td>1.5</td>\n",
       "      <td>19.6</td>\n",
       "      <td>69.5</td>\n",
       "      <td>110.7</td>\n",
       "      <td>72.9</td>\n",
       "      <td>Never</td>\n",
       "      <td>0.33</td>\n",
       "    </tr>\n",
       "  </tbody>\n",
       "</table>\n",
       "</div>"
      ],
      "text/plain": [
       "   age gender  height_cm  weight_kg    activity_type  duration_minutes  \\\n",
       "0   56      F      165.3       53.7          Dancing                41   \n",
       "1   56      F      165.3       53.9         Swimming                28   \n",
       "2   56      F      165.3       54.2         Swimming                21   \n",
       "3   56      F      165.3       54.4  Weight Training                99   \n",
       "4   56      F      165.3       54.7         Swimming               100   \n",
       "\n",
       "  intensity  calories_burned  avg_heart_rate  hours_sleep  stress_level  \\\n",
       "0       Low              3.3             103          6.6             3   \n",
       "1       Low              2.9             102          8.1             7   \n",
       "2    Medium              2.6             126          6.2             7   \n",
       "3    Medium             10.7             141          7.2             8   \n",
       "4    Medium             12.7             112          7.1             1   \n",
       "\n",
       "   daily_steps  hydration_level   bmi  resting_heart_rate  \\\n",
       "0         7128              1.5  19.6                69.5   \n",
       "1         7925              1.8  19.6                69.5   \n",
       "2         7557              2.7  19.6                69.5   \n",
       "3        11120              2.6  19.6                69.5   \n",
       "4         5406              1.5  19.6                69.5   \n",
       "\n",
       "   blood_pressure_systolic  blood_pressure_diastolic smoking_status  \\\n",
       "0                    110.7                      72.9          Never   \n",
       "1                    110.7                      72.9          Never   \n",
       "2                    110.7                      72.9          Never   \n",
       "3                    110.7                      72.9          Never   \n",
       "4                    110.7                      72.9          Never   \n",
       "\n",
       "   fitness_level  \n",
       "0           0.04  \n",
       "1           0.07  \n",
       "2           0.09  \n",
       "3           0.21  \n",
       "4           0.33  "
      ]
     },
     "execution_count": 7,
     "metadata": {},
     "output_type": "execute_result"
    }
   ],
   "source": [
    "df.head()"
   ]
  },
  {
   "cell_type": "code",
   "execution_count": 10,
   "metadata": {},
   "outputs": [],
   "source": [
    "train_data, test_data = train_test_split(df, test_size=0.3, random_state=42)"
   ]
  },
  {
   "cell_type": "code",
   "execution_count": 11,
   "metadata": {},
   "outputs": [
    {
     "data": {
      "text/plain": [
       "((481390, 19), (206311, 19))"
      ]
     },
     "execution_count": 11,
     "metadata": {},
     "output_type": "execute_result"
    }
   ],
   "source": [
    "train_data.shape, test_data.shape"
   ]
  },
  {
   "cell_type": "code",
   "execution_count": 12,
   "metadata": {},
   "outputs": [],
   "source": [
    "X_train, X_test, y_train, y_test = (\n",
    "    train_data.drop('fitness_level', axis=1),\n",
    "    test_data.drop('fitness_level', axis=1),\n",
    "    train_data['fitness_level'],\n",
    "    test_data['fitness_level']\n",
    ")"
   ]
  },
  {
   "cell_type": "code",
   "execution_count": 22,
   "metadata": {},
   "outputs": [],
   "source": [
    "numerical_columns = X_train.select_dtypes('number').columns\n",
    "categorical_columns = X_train.select_dtypes('object').columns"
   ]
  },
  {
   "cell_type": "code",
   "execution_count": 26,
   "metadata": {},
   "outputs": [],
   "source": [
    "numerical_pipeline = Pipeline([\n",
    "    ('impute', SimpleImputer(strategy='mean')),\n",
    "    ('scaling', StandardScaler())\n",
    "])\n",
    "\n",
    "categorical_pipeline = Pipeline([\n",
    "    ('impute', SimpleImputer(strategy='most_frequent')),\n",
    "    ('encoding', OneHotEncoder(sparse_output=False)),\n",
    "    ('scaling', StandardScaler())\n",
    "])"
   ]
  },
  {
   "cell_type": "code",
   "execution_count": 27,
   "metadata": {},
   "outputs": [],
   "source": [
    "preprocessor = ColumnTransformer([\n",
    "    ('numerical_trf', numerical_pipeline, numerical_columns),\n",
    "    ('categorical_trf', categorical_pipeline, categorical_columns)\n",
    "])"
   ]
  },
  {
   "cell_type": "code",
   "execution_count": 28,
   "metadata": {},
   "outputs": [],
   "source": [
    "X_train = preprocessor.fit_transform(X_train)\n",
    "X_test = preprocessor.transform(X_test)"
   ]
  },
  {
   "cell_type": "code",
   "execution_count": 41,
   "metadata": {},
   "outputs": [],
   "source": [
    "from tensorflow.keras.models import Sequential\n",
    "from tensorflow.keras.layers import Dense, Dropout\n",
    "from tensorflow.keras.losses import MeanSquaredError\n",
    "from tensorflow.keras.optimizers import Adam\n",
    "from tensorflow.keras.callbacks import EarlyStopping\n",
    "from tensorflow.keras.metrics import R2Score"
   ]
  },
  {
   "cell_type": "code",
   "execution_count": 35,
   "metadata": {},
   "outputs": [
    {
     "name": "stderr",
     "output_type": "stream",
     "text": [
      "f:\\Projects\\Fitness-Level-Predictor-Project\\venv\\lib\\site-packages\\keras\\src\\layers\\core\\dense.py:87: UserWarning: Do not pass an `input_shape`/`input_dim` argument to a layer. When using Sequential models, prefer using an `Input(shape)` object as the first layer in the model instead.\n",
      "  super().__init__(activity_regularizer=activity_regularizer, **kwargs)\n"
     ]
    }
   ],
   "source": [
    "model = Sequential([\n",
    "    Dense(128, activation='relu', input_shape=(X_train.shape[1],)),\n",
    "    Dropout(0.5),\n",
    "\n",
    "    Dense(64, activation='relu'),\n",
    "    Dropout(0.3),\n",
    "\n",
    "    Dense(1)\n",
    "])"
   ]
  },
  {
   "cell_type": "code",
   "execution_count": 42,
   "metadata": {},
   "outputs": [],
   "source": [
    "model.compile(loss=MeanSquaredError(), optimizer=Adam(), metrics=[R2Score()])"
   ]
  },
  {
   "cell_type": "code",
   "execution_count": 43,
   "metadata": {},
   "outputs": [
    {
     "data": {
      "text/html": [
       "<pre style=\"white-space:pre;overflow-x:auto;line-height:normal;font-family:Menlo,'DejaVu Sans Mono',consolas,'Courier New',monospace\"><span style=\"font-weight: bold\">Model: \"sequential\"</span>\n",
       "</pre>\n"
      ],
      "text/plain": [
       "\u001b[1mModel: \"sequential\"\u001b[0m\n"
      ]
     },
     "metadata": {},
     "output_type": "display_data"
    },
    {
     "data": {
      "text/html": [
       "<pre style=\"white-space:pre;overflow-x:auto;line-height:normal;font-family:Menlo,'DejaVu Sans Mono',consolas,'Courier New',monospace\">┏━━━━━━━━━━━━━━━━━━━━━━━━━━━━━━━━━┳━━━━━━━━━━━━━━━━━━━━━━━━┳━━━━━━━━━━━━━━━┓\n",
       "┃<span style=\"font-weight: bold\"> Layer (type)                    </span>┃<span style=\"font-weight: bold\"> Output Shape           </span>┃<span style=\"font-weight: bold\">       Param # </span>┃\n",
       "┡━━━━━━━━━━━━━━━━━━━━━━━━━━━━━━━━━╇━━━━━━━━━━━━━━━━━━━━━━━━╇━━━━━━━━━━━━━━━┩\n",
       "│ dense (<span style=\"color: #0087ff; text-decoration-color: #0087ff\">Dense</span>)                   │ (<span style=\"color: #00d7ff; text-decoration-color: #00d7ff\">None</span>, <span style=\"color: #00af00; text-decoration-color: #00af00\">128</span>)            │         <span style=\"color: #00af00; text-decoration-color: #00af00\">4,352</span> │\n",
       "├─────────────────────────────────┼────────────────────────┼───────────────┤\n",
       "│ dropout (<span style=\"color: #0087ff; text-decoration-color: #0087ff\">Dropout</span>)               │ (<span style=\"color: #00d7ff; text-decoration-color: #00d7ff\">None</span>, <span style=\"color: #00af00; text-decoration-color: #00af00\">128</span>)            │             <span style=\"color: #00af00; text-decoration-color: #00af00\">0</span> │\n",
       "├─────────────────────────────────┼────────────────────────┼───────────────┤\n",
       "│ dense_1 (<span style=\"color: #0087ff; text-decoration-color: #0087ff\">Dense</span>)                 │ (<span style=\"color: #00d7ff; text-decoration-color: #00d7ff\">None</span>, <span style=\"color: #00af00; text-decoration-color: #00af00\">64</span>)             │         <span style=\"color: #00af00; text-decoration-color: #00af00\">8,256</span> │\n",
       "├─────────────────────────────────┼────────────────────────┼───────────────┤\n",
       "│ dropout_1 (<span style=\"color: #0087ff; text-decoration-color: #0087ff\">Dropout</span>)             │ (<span style=\"color: #00d7ff; text-decoration-color: #00d7ff\">None</span>, <span style=\"color: #00af00; text-decoration-color: #00af00\">64</span>)             │             <span style=\"color: #00af00; text-decoration-color: #00af00\">0</span> │\n",
       "├─────────────────────────────────┼────────────────────────┼───────────────┤\n",
       "│ dense_2 (<span style=\"color: #0087ff; text-decoration-color: #0087ff\">Dense</span>)                 │ (<span style=\"color: #00d7ff; text-decoration-color: #00d7ff\">None</span>, <span style=\"color: #00af00; text-decoration-color: #00af00\">1</span>)              │            <span style=\"color: #00af00; text-decoration-color: #00af00\">65</span> │\n",
       "└─────────────────────────────────┴────────────────────────┴───────────────┘\n",
       "</pre>\n"
      ],
      "text/plain": [
       "┏━━━━━━━━━━━━━━━━━━━━━━━━━━━━━━━━━┳━━━━━━━━━━━━━━━━━━━━━━━━┳━━━━━━━━━━━━━━━┓\n",
       "┃\u001b[1m \u001b[0m\u001b[1mLayer (type)                   \u001b[0m\u001b[1m \u001b[0m┃\u001b[1m \u001b[0m\u001b[1mOutput Shape          \u001b[0m\u001b[1m \u001b[0m┃\u001b[1m \u001b[0m\u001b[1m      Param #\u001b[0m\u001b[1m \u001b[0m┃\n",
       "┡━━━━━━━━━━━━━━━━━━━━━━━━━━━━━━━━━╇━━━━━━━━━━━━━━━━━━━━━━━━╇━━━━━━━━━━━━━━━┩\n",
       "│ dense (\u001b[38;5;33mDense\u001b[0m)                   │ (\u001b[38;5;45mNone\u001b[0m, \u001b[38;5;34m128\u001b[0m)            │         \u001b[38;5;34m4,352\u001b[0m │\n",
       "├─────────────────────────────────┼────────────────────────┼───────────────┤\n",
       "│ dropout (\u001b[38;5;33mDropout\u001b[0m)               │ (\u001b[38;5;45mNone\u001b[0m, \u001b[38;5;34m128\u001b[0m)            │             \u001b[38;5;34m0\u001b[0m │\n",
       "├─────────────────────────────────┼────────────────────────┼───────────────┤\n",
       "│ dense_1 (\u001b[38;5;33mDense\u001b[0m)                 │ (\u001b[38;5;45mNone\u001b[0m, \u001b[38;5;34m64\u001b[0m)             │         \u001b[38;5;34m8,256\u001b[0m │\n",
       "├─────────────────────────────────┼────────────────────────┼───────────────┤\n",
       "│ dropout_1 (\u001b[38;5;33mDropout\u001b[0m)             │ (\u001b[38;5;45mNone\u001b[0m, \u001b[38;5;34m64\u001b[0m)             │             \u001b[38;5;34m0\u001b[0m │\n",
       "├─────────────────────────────────┼────────────────────────┼───────────────┤\n",
       "│ dense_2 (\u001b[38;5;33mDense\u001b[0m)                 │ (\u001b[38;5;45mNone\u001b[0m, \u001b[38;5;34m1\u001b[0m)              │            \u001b[38;5;34m65\u001b[0m │\n",
       "└─────────────────────────────────┴────────────────────────┴───────────────┘\n"
      ]
     },
     "metadata": {},
     "output_type": "display_data"
    },
    {
     "data": {
      "text/html": [
       "<pre style=\"white-space:pre;overflow-x:auto;line-height:normal;font-family:Menlo,'DejaVu Sans Mono',consolas,'Courier New',monospace\"><span style=\"font-weight: bold\"> Total params: </span><span style=\"color: #00af00; text-decoration-color: #00af00\">12,673</span> (49.50 KB)\n",
       "</pre>\n"
      ],
      "text/plain": [
       "\u001b[1m Total params: \u001b[0m\u001b[38;5;34m12,673\u001b[0m (49.50 KB)\n"
      ]
     },
     "metadata": {},
     "output_type": "display_data"
    },
    {
     "data": {
      "text/html": [
       "<pre style=\"white-space:pre;overflow-x:auto;line-height:normal;font-family:Menlo,'DejaVu Sans Mono',consolas,'Courier New',monospace\"><span style=\"font-weight: bold\"> Trainable params: </span><span style=\"color: #00af00; text-decoration-color: #00af00\">12,673</span> (49.50 KB)\n",
       "</pre>\n"
      ],
      "text/plain": [
       "\u001b[1m Trainable params: \u001b[0m\u001b[38;5;34m12,673\u001b[0m (49.50 KB)\n"
      ]
     },
     "metadata": {},
     "output_type": "display_data"
    },
    {
     "data": {
      "text/html": [
       "<pre style=\"white-space:pre;overflow-x:auto;line-height:normal;font-family:Menlo,'DejaVu Sans Mono',consolas,'Courier New',monospace\"><span style=\"font-weight: bold\"> Non-trainable params: </span><span style=\"color: #00af00; text-decoration-color: #00af00\">0</span> (0.00 B)\n",
       "</pre>\n"
      ],
      "text/plain": [
       "\u001b[1m Non-trainable params: \u001b[0m\u001b[38;5;34m0\u001b[0m (0.00 B)\n"
      ]
     },
     "metadata": {},
     "output_type": "display_data"
    }
   ],
   "source": [
    "model.summary()"
   ]
  },
  {
   "cell_type": "code",
   "execution_count": 44,
   "metadata": {},
   "outputs": [],
   "source": [
    "es_callback = EarlyStopping(monitor='val_loss', patience=5, restore_best_weights=True)"
   ]
  },
  {
   "cell_type": "code",
   "execution_count": 45,
   "metadata": {},
   "outputs": [
    {
     "name": "stdout",
     "output_type": "stream",
     "text": [
      "Epoch 1/10\n",
      "\u001b[1m15044/15044\u001b[0m \u001b[32m━━━━━━━━━━━━━━━━━━━━\u001b[0m\u001b[37m\u001b[0m \u001b[1m47s\u001b[0m 3ms/step - loss: 1.5568 - r2_score: 0.9487 - val_loss: 1.2009 - val_r2_score: 0.9604\n",
      "Epoch 2/10\n",
      "\u001b[1m15044/15044\u001b[0m \u001b[32m━━━━━━━━━━━━━━━━━━━━\u001b[0m\u001b[37m\u001b[0m \u001b[1m40s\u001b[0m 3ms/step - loss: 1.0808 - r2_score: 0.9642 - val_loss: 1.3758 - val_r2_score: 0.9546\n",
      "Epoch 3/10\n",
      "\u001b[1m15044/15044\u001b[0m \u001b[32m━━━━━━━━━━━━━━━━━━━━\u001b[0m\u001b[37m\u001b[0m \u001b[1m38s\u001b[0m 3ms/step - loss: 1.0030 - r2_score: 0.9669 - val_loss: 1.2217 - val_r2_score: 0.9597\n",
      "Epoch 4/10\n",
      "\u001b[1m15044/15044\u001b[0m \u001b[32m━━━━━━━━━━━━━━━━━━━━\u001b[0m\u001b[37m\u001b[0m \u001b[1m40s\u001b[0m 3ms/step - loss: 0.9675 - r2_score: 0.9680 - val_loss: 1.2423 - val_r2_score: 0.9590\n",
      "Epoch 5/10\n",
      "\u001b[1m15044/15044\u001b[0m \u001b[32m━━━━━━━━━━━━━━━━━━━━\u001b[0m\u001b[37m\u001b[0m \u001b[1m50s\u001b[0m 3ms/step - loss: 0.9537 - r2_score: 0.9684 - val_loss: 1.3235 - val_r2_score: 0.9564\n",
      "Epoch 6/10\n",
      "\u001b[1m15044/15044\u001b[0m \u001b[32m━━━━━━━━━━━━━━━━━━━━\u001b[0m\u001b[37m\u001b[0m \u001b[1m101s\u001b[0m 5ms/step - loss: 0.9565 - r2_score: 0.9684 - val_loss: 1.1196 - val_r2_score: 0.9631\n",
      "Epoch 7/10\n",
      "\u001b[1m15044/15044\u001b[0m \u001b[32m━━━━━━━━━━━━━━━━━━━━\u001b[0m\u001b[37m\u001b[0m \u001b[1m61s\u001b[0m 4ms/step - loss: 0.9372 - r2_score: 0.9690 - val_loss: 1.2077 - val_r2_score: 0.9602\n",
      "Epoch 8/10\n",
      "\u001b[1m15044/15044\u001b[0m \u001b[32m━━━━━━━━━━━━━━━━━━━━\u001b[0m\u001b[37m\u001b[0m \u001b[1m51s\u001b[0m 3ms/step - loss: 0.9332 - r2_score: 0.9691 - val_loss: 1.1699 - val_r2_score: 0.9614\n",
      "Epoch 9/10\n",
      "\u001b[1m15044/15044\u001b[0m \u001b[32m━━━━━━━━━━━━━━━━━━━━\u001b[0m\u001b[37m\u001b[0m \u001b[1m42s\u001b[0m 3ms/step - loss: 0.9330 - r2_score: 0.9692 - val_loss: 1.2353 - val_r2_score: 0.9593\n",
      "Epoch 10/10\n",
      "\u001b[1m15044/15044\u001b[0m \u001b[32m━━━━━━━━━━━━━━━━━━━━\u001b[0m\u001b[37m\u001b[0m \u001b[1m87s\u001b[0m 3ms/step - loss: 0.9273 - r2_score: 0.9693 - val_loss: 1.1132 - val_r2_score: 0.9633\n"
     ]
    },
    {
     "data": {
      "text/plain": [
       "<keras.src.callbacks.history.History at 0x23fa76f47c0>"
      ]
     },
     "execution_count": 45,
     "metadata": {},
     "output_type": "execute_result"
    }
   ],
   "source": [
    "model.fit(X_train, y_train, validation_data=(X_test, y_test), epochs=10, callbacks=[es_callback])"
   ]
  },
  {
   "cell_type": "code",
   "execution_count": null,
   "metadata": {},
   "outputs": [],
   "source": []
  }
 ],
 "metadata": {
  "kernelspec": {
   "display_name": "Python 3",
   "language": "python",
   "name": "python3"
  },
  "language_info": {
   "codemirror_mode": {
    "name": "ipython",
    "version": 3
   },
   "file_extension": ".py",
   "mimetype": "text/x-python",
   "name": "python",
   "nbconvert_exporter": "python",
   "pygments_lexer": "ipython3",
   "version": "3.10.16"
  }
 },
 "nbformat": 4,
 "nbformat_minor": 2
}
